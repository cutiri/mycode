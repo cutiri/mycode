{
 "cells": [
  {
   "cell_type": "code",
   "execution_count": 8,
   "metadata": {},
   "outputs": [
    {
     "data": {
      "text/plain": [
       "0    nothing\n",
       "1    kicking\n",
       "Name: power, dtype: object"
      ]
     },
     "execution_count": 8,
     "metadata": {},
     "output_type": "execute_result"
    }
   ],
   "source": [
    "import pandas as pd\n",
    "\n",
    "hero = [\n",
    "    {\n",
    "        \"name\": \"Bob\",\n",
    "        \"power\": \"nothing\"\n",
    "    },\n",
    "    {\n",
    "        \"name\": \"John\",\n",
    "        \"power\": \"kicking\"\n",
    "    }\n",
    "]\n",
    "\n",
    "herodf = pd.DataFrame(hero)\n",
    "\n",
    "herodf\n",
    "\n",
    "herodf[[\"power\"]]"
   ]
  }
 ],
 "metadata": {
  "kernelspec": {
   "display_name": "Python 3",
   "language": "python",
   "name": "python3"
  },
  "language_info": {
   "codemirror_mode": {
    "name": "ipython",
    "version": 3
   },
   "file_extension": ".py",
   "mimetype": "text/x-python",
   "name": "python",
   "nbconvert_exporter": "python",
   "pygments_lexer": "ipython3",
   "version": "3.12.0"
  }
 },
 "nbformat": 4,
 "nbformat_minor": 2
}
